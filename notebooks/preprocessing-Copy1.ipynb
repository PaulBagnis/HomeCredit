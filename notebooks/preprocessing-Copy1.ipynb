{
 "cells": [
  {
   "cell_type": "code",
   "execution_count": 57,
   "metadata": {},
   "outputs": [],
   "source": [
    "import numpy as np\n",
    "import pandas as pd\n",
    "import matplotlib.pyplot as plt\n",
    "import sklearn\n",
    "import imblearn\n",
    "import mlxtend\n",
    "from sklearn.utils import resample\n",
    "from sklearn.preprocessing import LabelEncoder\n",
    "\n",
    "from sklearn.neighbors import KNeighborsClassifier\n",
    "\n",
    "from sklearn.metrics import confusion_matrix\n",
    "from sklearn.metrics import accuracy_score\n",
    "from mlxtend.plotting import plot_confusion_matrix\n",
    "\n",
    "#from imblearn.combine import SMOTETomek\n",
    "\n",
    "df = pd.read_csv(\"C:/Users/owcha/Desktop/application_train.csv\")\n"
   ]
  },
  {
   "cell_type": "code",
   "execution_count": 43,
   "metadata": {},
   "outputs": [],
   "source": [
    "#Rendu compte de nombreuses données manquantes entrée 28 et 44.\n",
    "df = df.dropna(axis=0)"
   ]
  },
  {
   "cell_type": "code",
   "execution_count": 44,
   "metadata": {},
   "outputs": [
    {
     "name": "stdout",
     "output_type": "stream",
     "text": [
      "Datashape:  (8602, 122)\n",
      "15 columns were label encoded.\n",
      "4 columns were removed.\n",
      "Datashape:  (8602, 118)\n"
     ]
    }
   ],
   "source": [
    "print('Datashape: ', df.shape)\n",
    "\n",
    "#On ne peut traiter des données de type str.\n",
    "#Récuperation des colonnes de type pd object.\n",
    "le = LabelEncoder()\n",
    "le_count = 0\n",
    "\n",
    "useless_cat = [ col for col in df if len(list(df[col].unique())) == 1 ]\n",
    "for cat in useless_cat:\n",
    "    df = df.drop(cat, axis=1)\n",
    "\n",
    "\n",
    "# Iterate through the columns\n",
    "for col in df:\n",
    "    if df[col].dtype == 'object':\n",
    "        # If 2 or fewer unique categories\n",
    "        if len(list(df[col].unique())) >= 2:\n",
    "            df[col] = le.fit_transform(df[col])\n",
    "            le_count += 1\n",
    "            \n",
    "print('%d columns were label encoded.' % le_count)\n",
    "print('%d columns were removed.' % len(useless_cat)) #On optimise en balle.\n",
    "\n",
    "print('Datashape: ', df.shape)"
   ]
  },
  {
   "cell_type": "code",
   "execution_count": 45,
   "metadata": {},
   "outputs": [
    {
     "name": "stdout",
     "output_type": "stream",
     "text": [
      "Datashape:  (8602, 118)\n"
     ]
    },
    {
     "data": {
      "text/html": [
       "<div>\n",
       "<style scoped>\n",
       "    .dataframe tbody tr th:only-of-type {\n",
       "        vertical-align: middle;\n",
       "    }\n",
       "\n",
       "    .dataframe tbody tr th {\n",
       "        vertical-align: top;\n",
       "    }\n",
       "\n",
       "    .dataframe thead th {\n",
       "        text-align: right;\n",
       "    }\n",
       "</style>\n",
       "<table border=\"1\" class=\"dataframe\">\n",
       "  <thead>\n",
       "    <tr style=\"text-align: right;\">\n",
       "      <th></th>\n",
       "      <th>SK_ID_CURR</th>\n",
       "      <th>TARGET</th>\n",
       "      <th>NAME_CONTRACT_TYPE</th>\n",
       "      <th>CODE_GENDER</th>\n",
       "      <th>FLAG_OWN_REALTY</th>\n",
       "      <th>CNT_CHILDREN</th>\n",
       "      <th>AMT_INCOME_TOTAL</th>\n",
       "      <th>AMT_CREDIT</th>\n",
       "      <th>AMT_ANNUITY</th>\n",
       "      <th>AMT_GOODS_PRICE</th>\n",
       "      <th>...</th>\n",
       "      <th>FLAG_DOCUMENT_18</th>\n",
       "      <th>FLAG_DOCUMENT_19</th>\n",
       "      <th>FLAG_DOCUMENT_20</th>\n",
       "      <th>FLAG_DOCUMENT_21</th>\n",
       "      <th>AMT_REQ_CREDIT_BUREAU_HOUR</th>\n",
       "      <th>AMT_REQ_CREDIT_BUREAU_DAY</th>\n",
       "      <th>AMT_REQ_CREDIT_BUREAU_WEEK</th>\n",
       "      <th>AMT_REQ_CREDIT_BUREAU_MON</th>\n",
       "      <th>AMT_REQ_CREDIT_BUREAU_QRT</th>\n",
       "      <th>AMT_REQ_CREDIT_BUREAU_YEAR</th>\n",
       "    </tr>\n",
       "  </thead>\n",
       "  <tbody>\n",
       "    <tr>\n",
       "      <th>71</th>\n",
       "      <td>100083</td>\n",
       "      <td>0</td>\n",
       "      <td>0</td>\n",
       "      <td>1</td>\n",
       "      <td>1</td>\n",
       "      <td>0</td>\n",
       "      <td>103500.0</td>\n",
       "      <td>573628.5</td>\n",
       "      <td>24435.0</td>\n",
       "      <td>463500.0</td>\n",
       "      <td>...</td>\n",
       "      <td>0</td>\n",
       "      <td>0</td>\n",
       "      <td>0</td>\n",
       "      <td>0</td>\n",
       "      <td>0.0</td>\n",
       "      <td>0.0</td>\n",
       "      <td>0.0</td>\n",
       "      <td>0.0</td>\n",
       "      <td>0.0</td>\n",
       "      <td>3.0</td>\n",
       "    </tr>\n",
       "    <tr>\n",
       "      <th>124</th>\n",
       "      <td>100145</td>\n",
       "      <td>0</td>\n",
       "      <td>0</td>\n",
       "      <td>0</td>\n",
       "      <td>1</td>\n",
       "      <td>1</td>\n",
       "      <td>202500.0</td>\n",
       "      <td>260725.5</td>\n",
       "      <td>16789.5</td>\n",
       "      <td>198000.0</td>\n",
       "      <td>...</td>\n",
       "      <td>0</td>\n",
       "      <td>0</td>\n",
       "      <td>0</td>\n",
       "      <td>0</td>\n",
       "      <td>0.0</td>\n",
       "      <td>0.0</td>\n",
       "      <td>0.0</td>\n",
       "      <td>0.0</td>\n",
       "      <td>0.0</td>\n",
       "      <td>3.0</td>\n",
       "    </tr>\n",
       "    <tr>\n",
       "      <th>152</th>\n",
       "      <td>100179</td>\n",
       "      <td>0</td>\n",
       "      <td>0</td>\n",
       "      <td>0</td>\n",
       "      <td>0</td>\n",
       "      <td>0</td>\n",
       "      <td>202500.0</td>\n",
       "      <td>675000.0</td>\n",
       "      <td>53329.5</td>\n",
       "      <td>675000.0</td>\n",
       "      <td>...</td>\n",
       "      <td>0</td>\n",
       "      <td>0</td>\n",
       "      <td>0</td>\n",
       "      <td>0</td>\n",
       "      <td>0.0</td>\n",
       "      <td>0.0</td>\n",
       "      <td>0.0</td>\n",
       "      <td>1.0</td>\n",
       "      <td>0.0</td>\n",
       "      <td>4.0</td>\n",
       "    </tr>\n",
       "    <tr>\n",
       "      <th>161</th>\n",
       "      <td>100190</td>\n",
       "      <td>0</td>\n",
       "      <td>0</td>\n",
       "      <td>1</td>\n",
       "      <td>0</td>\n",
       "      <td>0</td>\n",
       "      <td>162000.0</td>\n",
       "      <td>263686.5</td>\n",
       "      <td>24781.5</td>\n",
       "      <td>238500.0</td>\n",
       "      <td>...</td>\n",
       "      <td>0</td>\n",
       "      <td>0</td>\n",
       "      <td>0</td>\n",
       "      <td>0</td>\n",
       "      <td>0.0</td>\n",
       "      <td>0.0</td>\n",
       "      <td>0.0</td>\n",
       "      <td>0.0</td>\n",
       "      <td>0.0</td>\n",
       "      <td>3.0</td>\n",
       "    </tr>\n",
       "    <tr>\n",
       "      <th>255</th>\n",
       "      <td>100295</td>\n",
       "      <td>1</td>\n",
       "      <td>0</td>\n",
       "      <td>1</td>\n",
       "      <td>0</td>\n",
       "      <td>1</td>\n",
       "      <td>225000.0</td>\n",
       "      <td>1019205.0</td>\n",
       "      <td>31032.0</td>\n",
       "      <td>774000.0</td>\n",
       "      <td>...</td>\n",
       "      <td>1</td>\n",
       "      <td>0</td>\n",
       "      <td>0</td>\n",
       "      <td>0</td>\n",
       "      <td>0.0</td>\n",
       "      <td>0.0</td>\n",
       "      <td>0.0</td>\n",
       "      <td>6.0</td>\n",
       "      <td>0.0</td>\n",
       "      <td>1.0</td>\n",
       "    </tr>\n",
       "  </tbody>\n",
       "</table>\n",
       "<p>5 rows × 118 columns</p>\n",
       "</div>"
      ],
      "text/plain": [
       "     SK_ID_CURR  TARGET  NAME_CONTRACT_TYPE  CODE_GENDER  FLAG_OWN_REALTY  \\\n",
       "71       100083       0                   0            1                1   \n",
       "124      100145       0                   0            0                1   \n",
       "152      100179       0                   0            0                0   \n",
       "161      100190       0                   0            1                0   \n",
       "255      100295       1                   0            1                0   \n",
       "\n",
       "     CNT_CHILDREN  AMT_INCOME_TOTAL  AMT_CREDIT  AMT_ANNUITY  AMT_GOODS_PRICE  \\\n",
       "71              0          103500.0    573628.5      24435.0         463500.0   \n",
       "124             1          202500.0    260725.5      16789.5         198000.0   \n",
       "152             0          202500.0    675000.0      53329.5         675000.0   \n",
       "161             0          162000.0    263686.5      24781.5         238500.0   \n",
       "255             1          225000.0   1019205.0      31032.0         774000.0   \n",
       "\n",
       "     ...  FLAG_DOCUMENT_18  FLAG_DOCUMENT_19  FLAG_DOCUMENT_20  \\\n",
       "71   ...                 0                 0                 0   \n",
       "124  ...                 0                 0                 0   \n",
       "152  ...                 0                 0                 0   \n",
       "161  ...                 0                 0                 0   \n",
       "255  ...                 1                 0                 0   \n",
       "\n",
       "     FLAG_DOCUMENT_21  AMT_REQ_CREDIT_BUREAU_HOUR  AMT_REQ_CREDIT_BUREAU_DAY  \\\n",
       "71                  0                         0.0                        0.0   \n",
       "124                 0                         0.0                        0.0   \n",
       "152                 0                         0.0                        0.0   \n",
       "161                 0                         0.0                        0.0   \n",
       "255                 0                         0.0                        0.0   \n",
       "\n",
       "     AMT_REQ_CREDIT_BUREAU_WEEK  AMT_REQ_CREDIT_BUREAU_MON  \\\n",
       "71                          0.0                        0.0   \n",
       "124                         0.0                        0.0   \n",
       "152                         0.0                        1.0   \n",
       "161                         0.0                        0.0   \n",
       "255                         0.0                        6.0   \n",
       "\n",
       "     AMT_REQ_CREDIT_BUREAU_QRT  AMT_REQ_CREDIT_BUREAU_YEAR  \n",
       "71                         0.0                         3.0  \n",
       "124                        0.0                         3.0  \n",
       "152                        0.0                         4.0  \n",
       "161                        0.0                         3.0  \n",
       "255                        0.0                         1.0  \n",
       "\n",
       "[5 rows x 118 columns]"
      ]
     },
     "execution_count": 45,
     "metadata": {},
     "output_type": "execute_result"
    }
   ],
   "source": [
    "print('Datashape: ', df.shape)\n",
    "df.head()"
   ]
  },
  {
   "cell_type": "code",
   "execution_count": 46,
   "metadata": {},
   "outputs": [
    {
     "name": "stdout",
     "output_type": "stream",
     "text": [
      "dfTrain:  (7742, 118)\n",
      "dfTest:  (855, 118)\n",
      "dfKeep:  (5, 118)\n"
     ]
    }
   ],
   "source": [
    "#Besoin de split notre dataset car cross validation->def de cross validation.\n",
    "\n",
    "dfTrain = df.iloc[:round(df.shape[0] * 0.9),:] #90%\n",
    "dfRow = df.iloc[round(df.shape[0] * 0.9):,:]  \n",
    "dfTest = dfRow.iloc[:(dfRow.shape[0]-5),:]\n",
    "dfKeep = dfRow.iloc[(dfRow.shape[0]-5):,:]\n",
    "\n",
    "print('dfTrain: ',dfTrain.shape)\n",
    "print('dfTest: ',dfTest.shape)\n",
    "print('dfKeep: ',dfKeep.shape)"
   ]
  },
  {
   "cell_type": "code",
   "execution_count": 47,
   "metadata": {},
   "outputs": [
    {
     "name": "stdout",
     "output_type": "stream",
     "text": [
      "0    0.938646\n",
      "1    0.061354\n",
      "Name: TARGET, dtype: float64\n"
     ]
    },
    {
     "data": {
      "image/png": "[encoded data removed]",
      "text/plain": [
       "<Figure size 432x288 with 1 Axes>"
      ]
     },
     "metadata": {
      "needs_background": "light"
     },
     "output_type": "display_data"
    }
   ],
   "source": [
    "#On regarde la sortie\n",
    "print( pd.value_counts(dfTrain['TARGET'], normalize=True) )\n",
    "\n",
    "dfTrain['TARGET'].astype(int).plot.hist();"
   ]
  },
  {
   "cell_type": "code",
   "execution_count": 48,
   "metadata": {},
   "outputs": [
    {
     "name": "stdout",
     "output_type": "stream",
     "text": [
      "dfTrain:  (7267, 118)\n",
      "dfTrain:  (475, 118)\n",
      "Training data shape:  (14380, 118)\n"
     ]
    },
    {
     "data": {
      "image/png": "[encoded data removed]",
      "text/plain": [
       "<Figure size 432x288 with 1 Axes>"
      ]
     },
     "metadata": {
      "needs_background": "light"
     },
     "output_type": "display_data"
    }
   ],
   "source": [
    "#Oversampling car jeu de données réduit\n",
    "\n",
    "# Separate majority and minority classes\n",
    "df_majority = dfTrain[dfTrain['TARGET']==0]\n",
    "df_minority = dfTrain[dfTrain['TARGET']==1]\n",
    "\n",
    "# Upsample minority class\n",
    "df_minority_upsampled = resample(df_minority, \n",
    "                                 replace=True,     # sample with replacement\n",
    "                                 n_samples=round(dfTrain.shape[0] * 0.918744),  # to match majority class\n",
    "                                 random_state=123) # reproducible results\n",
    "\n",
    "# Combine majority class with upsampled minority class\n",
    "dfTrainUpsampled = pd.concat([df_majority, df_minority_upsampled])\n",
    " \n",
    "# Display new class counts\n",
    "dfTrainUpsampled['TARGET'].value_counts()\n",
    "print('Training data shape: ', dfTrainUpsampled.shape)\n",
    "\n",
    "dfTrainUpsampled['TARGET'].astype(int).plot.hist();"
   ]
  },
  {
   "cell_type": "code",
   "execution_count": 49,
   "metadata": {},
   "outputs": [
    {
     "name": "stdout",
     "output_type": "stream",
     "text": [
      "Your selected dataframe has 118 columns.\n",
      "There are 0 columns that have missing values.\n"
     ]
    },
    {
     "data": {
      "text/html": [
       "<div>\n",
       "<style scoped>\n",
       "    .dataframe tbody tr th:only-of-type {\n",
       "        vertical-align: middle;\n",
       "    }\n",
       "\n",
       "    .dataframe tbody tr th {\n",
       "        vertical-align: top;\n",
       "    }\n",
       "\n",
       "    .dataframe thead th {\n",
       "        text-align: right;\n",
       "    }\n",
       "</style>\n",
       "<table border=\"1\" class=\"dataframe\">\n",
       "  <thead>\n",
       "    <tr style=\"text-align: right;\">\n",
       "      <th></th>\n",
       "      <th>Missing Values</th>\n",
       "      <th>% of Total Values</th>\n",
       "    </tr>\n",
       "  </thead>\n",
       "  <tbody>\n",
       "  </tbody>\n",
       "</table>\n",
       "</div>"
      ],
      "text/plain": [
       "Empty DataFrame\n",
       "Columns: [Missing Values, % of Total Values]\n",
       "Index: []"
      ]
     },
     "execution_count": 49,
     "metadata": {},
     "output_type": "execute_result"
    }
   ],
   "source": [
    "#Traitement des données manquantes.\n",
    "def missing_values_table(df):\n",
    "        # Total missing values\n",
    "        mis_val = df.isnull().sum()\n",
    "        \n",
    "        # Percentage of missing values\n",
    "        mis_val_percent = 100 * df.isnull().sum() / len(df)\n",
    "        \n",
    "        # Make a table with the results\n",
    "        mis_val_table = pd.concat([mis_val, mis_val_percent], axis=1)\n",
    "        \n",
    "        # Rename the columns\n",
    "        mis_val_table_ren_columns = mis_val_table.rename(\n",
    "        columns = {0 : 'Missing Values', 1 : '% of Total Values'})\n",
    "        \n",
    "        # Sort the table by percentage of missing descending\n",
    "        mis_val_table_ren_columns = mis_val_table_ren_columns[\n",
    "            mis_val_table_ren_columns.iloc[:,1] != 0].sort_values(\n",
    "        '% of Total Values', ascending=False).round(1)\n",
    "        \n",
    "        # Print some summary information\n",
    "        print (\"Your selected dataframe has \" + str(df.shape[1]) + \" columns.\\n\"      \n",
    "            \"There are \" + str(mis_val_table_ren_columns.shape[0]) +\n",
    "              \" columns that have missing values.\")\n",
    "        \n",
    "        # Return the dataframe with missing information\n",
    "        return mis_val_table_ren_columns\n",
    "\n",
    "missing_values_table(dfTrainUpsampled)"
   ]
  },
  {
   "cell_type": "code",
   "execution_count": 50,
   "metadata": {},
   "outputs": [
    {
     "name": "stdout",
     "output_type": "stream",
     "text": [
      "5\n"
     ]
    }
   ],
   "source": [
    "def missing_values_by_row(df):\n",
    "    count = 0\n",
    "    for index, row in df.iterrows():\n",
    "        for prop in row:\n",
    "            if not prop:\n",
    "                count += 1\n",
    "                break;\n",
    "                \n",
    "    print(count) \n",
    "    \n",
    "missing_values_by_row(dfKeep)"
   ]
  },
  {
   "cell_type": "code",
   "execution_count": 51,
   "metadata": {},
   "outputs": [
    {
     "name": "stdout",
     "output_type": "stream",
     "text": [
      "float64    65\n",
      "int64      38\n",
      "int32      15\n",
      "dtype: int64\n"
     ]
    }
   ],
   "source": [
    "print( dfTrainUpsampled.dtypes.value_counts() )\n",
    "            "
   ]
  },
  {
   "cell_type": "code",
   "execution_count": 70,
   "metadata": {},
   "outputs": [],
   "source": [
    "#Mise en place du premier knn.\n",
    "#Séparation des X et des y.\n",
    "\n",
    "X_train = dfTrainUpsampled.drop('TARGET', 1)\n",
    "y_train = dfTrainUpsampled['TARGET']\n",
    "\n",
    "X_test = dfTest.drop('TARGET', 1)\n",
    "y_test = dfTest['TARGET']\n",
    "\n",
    "#Déclaration du knn1.\n",
    "knn1 = KNeighborsClassifier(n_neighbors=2, n_jobs=-1)\n",
    "knn1.fit(X_train, y_train)\n",
    "\n",
    "#Première prédiction\n",
    "y_pred1 = knn1.predict(X_test)"
   ]
  },
  {
   "cell_type": "code",
   "execution_count": 71,
   "metadata": {},
   "outputs": [
    {
     "name": "stdout",
     "output_type": "stream",
     "text": [
      "0.8818713450292398\n"
     ]
    },
    {
     "data": {
      "image/png": "[encoded data removed]",
      "text/plain": [
       "<Figure size 432x288 with 2 Axes>"
      ]
     },
     "metadata": {
      "needs_background": "light"
     },
     "output_type": "display_data"
    }
   ],
   "source": [
    "conf_mat = confusion_matrix(y_test, y_pred1)\n",
    "\n",
    "fig, ax = plot_confusion_matrix(conf_mat=conf_mat,\n",
    "                                colorbar=True,\n",
    "                                show_absolute=True,\n",
    "                                show_normed=True,\n",
    "                                class_names=[\"Pay\", \"Don't pay\"])\n",
    "\n",
    "print ( conf_mat.diagonal().sum()/conf_mat.sum() )"
   ]
  },
  {
   "cell_type": "code",
   "execution_count": 62,
   "metadata": {},
   "outputs": [
    {
     "data": {
      "text/plain": [
       "Text(0, 0.5, 'Error Rate')"
      ]
     },
     "execution_count": 62,
     "metadata": {},
     "output_type": "execute_result"
    },
    {
     "data": {
      "image/png": "[encoded data removed]",
      "text/plain": [
       "<Figure size 720x432 with 1 Axes>"
      ]
     },
     "metadata": {
      "needs_background": "light"
     },
     "output_type": "display_data"
    }
   ],
   "source": [
    "error_rate = []\n",
    "\n",
    "# Will take some time\n",
    "for i in range(1,100):\n",
    "    \n",
    "    knn = KNeighborsClassifier(n_neighbors=i)\n",
    "    knn.fit(X_train,y_train)\n",
    "    pred_i = knn.predict(X_test)\n",
    "    error_rate.append(np.mean(pred_i != y_test))\n",
    "    \n",
    "    \n",
    "plt.figure(figsize=(10,6))\n",
    "plt.plot(range(1,100),error_rate,color='blue', linestyle='solid', marker='o',\n",
    "         markerfacecolor='red', markersize=10)\n",
    "plt.title('Error Rate vs. K Value')\n",
    "plt.xlabel('K')\n",
    "plt.ylabel('Error Rate')"
   ]
  },
  {
   "cell_type": "code",
   "execution_count": null,
   "metadata": {},
   "outputs": [],
   "source": []
  }
 ],
 "metadata": {
  "kernelspec": {
   "display_name": "Python 3",
   "language": "python",
   "name": "python3"
  },
  "language_info": {
   "codemirror_mode": {
    "name": "ipython",
    "version": 3
   },
   "file_extension": ".py",
   "mimetype": "text/x-python",
   "name": "python",
   "nbconvert_exporter": "python",
   "pygments_lexer": "ipython3",
   "version": "3.9.2"
  },
  "metadata": {
   "interpreter": {
    "hash": "ac848e2b15f423d6ecd27418803d4f95dff527fc2e63f7123c1e4eae8bf0e95a"
   }
  }
 },
 "nbformat": 4,
 "nbformat_minor": 2
}
