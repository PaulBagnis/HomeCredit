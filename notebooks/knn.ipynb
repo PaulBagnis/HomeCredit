{
 "cells": [
  {
   "cell_type": "code",
   "execution_count": 3,
   "metadata": {},
   "outputs": [
    {
     "name": "stdout",
     "output_type": "stream",
     "text": [
      "Datashape:  (92253, 122)\n"
     ]
    },
    {
     "data": {
      "text/html": [
       "<div>\n",
       "<style scoped>\n",
       "    .dataframe tbody tr th:only-of-type {\n",
       "        vertical-align: middle;\n",
       "    }\n",
       "\n",
       "    .dataframe tbody tr th {\n",
       "        vertical-align: top;\n",
       "    }\n",
       "\n",
       "    .dataframe thead th {\n",
       "        text-align: right;\n",
       "    }\n",
       "</style>\n",
       "<table border=\"1\" class=\"dataframe\">\n",
       "  <thead>\n",
       "    <tr style=\"text-align: right;\">\n",
       "      <th></th>\n",
       "      <th>SK_ID_CURR</th>\n",
       "      <th>TARGET</th>\n",
       "      <th>NAME_CONTRACT_TYPE</th>\n",
       "      <th>CODE_GENDER</th>\n",
       "      <th>FLAG_OWN_CAR</th>\n",
       "      <th>FLAG_OWN_REALTY</th>\n",
       "      <th>CNT_CHILDREN</th>\n",
       "      <th>AMT_INCOME_TOTAL</th>\n",
       "      <th>AMT_CREDIT</th>\n",
       "      <th>AMT_ANNUITY</th>\n",
       "      <th>...</th>\n",
       "      <th>FLAG_DOCUMENT_18</th>\n",
       "      <th>FLAG_DOCUMENT_19</th>\n",
       "      <th>FLAG_DOCUMENT_20</th>\n",
       "      <th>FLAG_DOCUMENT_21</th>\n",
       "      <th>AMT_REQ_CREDIT_BUREAU_HOUR</th>\n",
       "      <th>AMT_REQ_CREDIT_BUREAU_DAY</th>\n",
       "      <th>AMT_REQ_CREDIT_BUREAU_WEEK</th>\n",
       "      <th>AMT_REQ_CREDIT_BUREAU_MON</th>\n",
       "      <th>AMT_REQ_CREDIT_BUREAU_QRT</th>\n",
       "      <th>AMT_REQ_CREDIT_BUREAU_YEAR</th>\n",
       "    </tr>\n",
       "  </thead>\n",
       "  <tbody>\n",
       "    <tr>\n",
       "      <th>0</th>\n",
       "      <td>100002</td>\n",
       "      <td>1</td>\n",
       "      <td>Cash loans</td>\n",
       "      <td>M</td>\n",
       "      <td>N</td>\n",
       "      <td>Y</td>\n",
       "      <td>0</td>\n",
       "      <td>202500.0</td>\n",
       "      <td>406597.5</td>\n",
       "      <td>24700.5</td>\n",
       "      <td>...</td>\n",
       "      <td>0</td>\n",
       "      <td>0</td>\n",
       "      <td>0</td>\n",
       "      <td>0</td>\n",
       "      <td>0.0</td>\n",
       "      <td>0.0</td>\n",
       "      <td>0.0</td>\n",
       "      <td>0.0</td>\n",
       "      <td>0.0</td>\n",
       "      <td>1.0</td>\n",
       "    </tr>\n",
       "    <tr>\n",
       "      <th>1</th>\n",
       "      <td>100003</td>\n",
       "      <td>0</td>\n",
       "      <td>Cash loans</td>\n",
       "      <td>F</td>\n",
       "      <td>N</td>\n",
       "      <td>N</td>\n",
       "      <td>0</td>\n",
       "      <td>270000.0</td>\n",
       "      <td>1293502.5</td>\n",
       "      <td>35698.5</td>\n",
       "      <td>...</td>\n",
       "      <td>0</td>\n",
       "      <td>0</td>\n",
       "      <td>0</td>\n",
       "      <td>0</td>\n",
       "      <td>0.0</td>\n",
       "      <td>0.0</td>\n",
       "      <td>0.0</td>\n",
       "      <td>0.0</td>\n",
       "      <td>0.0</td>\n",
       "      <td>0.0</td>\n",
       "    </tr>\n",
       "    <tr>\n",
       "      <th>2</th>\n",
       "      <td>100004</td>\n",
       "      <td>0</td>\n",
       "      <td>Revolving loans</td>\n",
       "      <td>M</td>\n",
       "      <td>Y</td>\n",
       "      <td>Y</td>\n",
       "      <td>0</td>\n",
       "      <td>67500.0</td>\n",
       "      <td>135000.0</td>\n",
       "      <td>6750.0</td>\n",
       "      <td>...</td>\n",
       "      <td>0</td>\n",
       "      <td>0</td>\n",
       "      <td>0</td>\n",
       "      <td>0</td>\n",
       "      <td>0.0</td>\n",
       "      <td>0.0</td>\n",
       "      <td>0.0</td>\n",
       "      <td>0.0</td>\n",
       "      <td>0.0</td>\n",
       "      <td>0.0</td>\n",
       "    </tr>\n",
       "    <tr>\n",
       "      <th>3</th>\n",
       "      <td>100006</td>\n",
       "      <td>0</td>\n",
       "      <td>Cash loans</td>\n",
       "      <td>F</td>\n",
       "      <td>N</td>\n",
       "      <td>Y</td>\n",
       "      <td>0</td>\n",
       "      <td>135000.0</td>\n",
       "      <td>312682.5</td>\n",
       "      <td>29686.5</td>\n",
       "      <td>...</td>\n",
       "      <td>0</td>\n",
       "      <td>0</td>\n",
       "      <td>0</td>\n",
       "      <td>0</td>\n",
       "      <td>NaN</td>\n",
       "      <td>NaN</td>\n",
       "      <td>NaN</td>\n",
       "      <td>NaN</td>\n",
       "      <td>NaN</td>\n",
       "      <td>NaN</td>\n",
       "    </tr>\n",
       "    <tr>\n",
       "      <th>4</th>\n",
       "      <td>100007</td>\n",
       "      <td>0</td>\n",
       "      <td>Cash loans</td>\n",
       "      <td>M</td>\n",
       "      <td>N</td>\n",
       "      <td>Y</td>\n",
       "      <td>0</td>\n",
       "      <td>121500.0</td>\n",
       "      <td>513000.0</td>\n",
       "      <td>21865.5</td>\n",
       "      <td>...</td>\n",
       "      <td>0</td>\n",
       "      <td>0</td>\n",
       "      <td>0</td>\n",
       "      <td>0</td>\n",
       "      <td>0.0</td>\n",
       "      <td>0.0</td>\n",
       "      <td>0.0</td>\n",
       "      <td>0.0</td>\n",
       "      <td>0.0</td>\n",
       "      <td>0.0</td>\n",
       "    </tr>\n",
       "  </tbody>\n",
       "</table>\n",
       "<p>5 rows × 122 columns</p>\n",
       "</div>"
      ],
      "text/plain": [
       "   SK_ID_CURR  TARGET NAME_CONTRACT_TYPE CODE_GENDER FLAG_OWN_CAR  \\\n",
       "0      100002       1         Cash loans           M            N   \n",
       "1      100003       0         Cash loans           F            N   \n",
       "2      100004       0    Revolving loans           M            Y   \n",
       "3      100006       0         Cash loans           F            N   \n",
       "4      100007       0         Cash loans           M            N   \n",
       "\n",
       "  FLAG_OWN_REALTY  CNT_CHILDREN  AMT_INCOME_TOTAL  AMT_CREDIT  AMT_ANNUITY  \\\n",
       "0               Y             0          202500.0    406597.5      24700.5   \n",
       "1               N             0          270000.0   1293502.5      35698.5   \n",
       "2               Y             0           67500.0    135000.0       6750.0   \n",
       "3               Y             0          135000.0    312682.5      29686.5   \n",
       "4               Y             0          121500.0    513000.0      21865.5   \n",
       "\n",
       "   ...  FLAG_DOCUMENT_18 FLAG_DOCUMENT_19 FLAG_DOCUMENT_20 FLAG_DOCUMENT_21  \\\n",
       "0  ...                 0                0                0                0   \n",
       "1  ...                 0                0                0                0   \n",
       "2  ...                 0                0                0                0   \n",
       "3  ...                 0                0                0                0   \n",
       "4  ...                 0                0                0                0   \n",
       "\n",
       "  AMT_REQ_CREDIT_BUREAU_HOUR AMT_REQ_CREDIT_BUREAU_DAY  \\\n",
       "0                        0.0                       0.0   \n",
       "1                        0.0                       0.0   \n",
       "2                        0.0                       0.0   \n",
       "3                        NaN                       NaN   \n",
       "4                        0.0                       0.0   \n",
       "\n",
       "   AMT_REQ_CREDIT_BUREAU_WEEK  AMT_REQ_CREDIT_BUREAU_MON  \\\n",
       "0                         0.0                        0.0   \n",
       "1                         0.0                        0.0   \n",
       "2                         0.0                        0.0   \n",
       "3                         NaN                        NaN   \n",
       "4                         0.0                        0.0   \n",
       "\n",
       "   AMT_REQ_CREDIT_BUREAU_QRT  AMT_REQ_CREDIT_BUREAU_YEAR  \n",
       "0                        0.0                         1.0  \n",
       "1                        0.0                         0.0  \n",
       "2                        0.0                         0.0  \n",
       "3                        NaN                         NaN  \n",
       "4                        0.0                         0.0  \n",
       "\n",
       "[5 rows x 122 columns]"
      ]
     },
     "execution_count": 3,
     "metadata": {},
     "output_type": "execute_result"
    }
   ],
   "source": [
    "import numpy as np\n",
    "import pandas as pd\n",
    "import matplotlib.pyplot as plt\n",
    "import sklearn\n",
    "import mlxtend\n",
    "from sklearn.utils import resample\n",
    "from sklearn.preprocessing import LabelEncoder\n",
    "\n",
    "from sklearn.neighbors import KNeighborsClassifier\n",
    "\n",
    "from sklearn.metrics import classification_report, confusion_matrix, accuracy_score\n",
    "from mlxtend.plotting import plot_confusion_matrix\n",
    "\n",
    "from sklearn.preprocessing import StandardScaler\n",
    "from sklearn.model_selection import train_test_split\n",
    "\n",
    "from pprint import pprint\n",
    "\n",
    "df = pd.read_csv(\"C:/Users/owcha/Desktop/application_train.csv\")\n",
    "\n",
    "df = df.iloc[:round(df.shape[0] * 0.3),:]\n",
    "\n",
    "print('Datashape: ', df.shape)\n",
    "df.head()"
   ]
  },
  {
   "cell_type": "code",
   "execution_count": 4,
   "metadata": {},
   "outputs": [
    {
     "name": "stdout",
     "output_type": "stream",
     "text": [
      "Your selected dataframe has 122 columns.\n",
      "There are 67 columns that have missing values.\n"
     ]
    },
    {
     "data": {
      "text/html": [
       "<div>\n",
       "<style scoped>\n",
       "    .dataframe tbody tr th:only-of-type {\n",
       "        vertical-align: middle;\n",
       "    }\n",
       "\n",
       "    .dataframe tbody tr th {\n",
       "        vertical-align: top;\n",
       "    }\n",
       "\n",
       "    .dataframe thead th {\n",
       "        text-align: right;\n",
       "    }\n",
       "</style>\n",
       "<table border=\"1\" class=\"dataframe\">\n",
       "  <thead>\n",
       "    <tr style=\"text-align: right;\">\n",
       "      <th></th>\n",
       "      <th>Missing Values</th>\n",
       "      <th>% of Total Values</th>\n",
       "    </tr>\n",
       "  </thead>\n",
       "  <tbody>\n",
       "    <tr>\n",
       "      <th>COMMONAREA_MEDI</th>\n",
       "      <td>64285</td>\n",
       "      <td>69.7</td>\n",
       "    </tr>\n",
       "    <tr>\n",
       "      <th>COMMONAREA_AVG</th>\n",
       "      <td>64285</td>\n",
       "      <td>69.7</td>\n",
       "    </tr>\n",
       "    <tr>\n",
       "      <th>COMMONAREA_MODE</th>\n",
       "      <td>64285</td>\n",
       "      <td>69.7</td>\n",
       "    </tr>\n",
       "    <tr>\n",
       "      <th>NONLIVINGAPARTMENTS_MEDI</th>\n",
       "      <td>63862</td>\n",
       "      <td>69.2</td>\n",
       "    </tr>\n",
       "    <tr>\n",
       "      <th>NONLIVINGAPARTMENTS_MODE</th>\n",
       "      <td>63862</td>\n",
       "      <td>69.2</td>\n",
       "    </tr>\n",
       "    <tr>\n",
       "      <th>...</th>\n",
       "      <td>...</td>\n",
       "      <td>...</td>\n",
       "    </tr>\n",
       "    <tr>\n",
       "      <th>EXT_SOURCE_2</th>\n",
       "      <td>201</td>\n",
       "      <td>0.2</td>\n",
       "    </tr>\n",
       "    <tr>\n",
       "      <th>AMT_GOODS_PRICE</th>\n",
       "      <td>79</td>\n",
       "      <td>0.1</td>\n",
       "    </tr>\n",
       "    <tr>\n",
       "      <th>AMT_ANNUITY</th>\n",
       "      <td>7</td>\n",
       "      <td>0.0</td>\n",
       "    </tr>\n",
       "    <tr>\n",
       "      <th>DAYS_LAST_PHONE_CHANGE</th>\n",
       "      <td>1</td>\n",
       "      <td>0.0</td>\n",
       "    </tr>\n",
       "    <tr>\n",
       "      <th>CNT_FAM_MEMBERS</th>\n",
       "      <td>1</td>\n",
       "      <td>0.0</td>\n",
       "    </tr>\n",
       "  </tbody>\n",
       "</table>\n",
       "<p>67 rows × 2 columns</p>\n",
       "</div>"
      ],
      "text/plain": [
       "                          Missing Values  % of Total Values\n",
       "COMMONAREA_MEDI                    64285               69.7\n",
       "COMMONAREA_AVG                     64285               69.7\n",
       "COMMONAREA_MODE                    64285               69.7\n",
       "NONLIVINGAPARTMENTS_MEDI           63862               69.2\n",
       "NONLIVINGAPARTMENTS_MODE           63862               69.2\n",
       "...                                  ...                ...\n",
       "EXT_SOURCE_2                         201                0.2\n",
       "AMT_GOODS_PRICE                       79                0.1\n",
       "AMT_ANNUITY                            7                0.0\n",
       "DAYS_LAST_PHONE_CHANGE                 1                0.0\n",
       "CNT_FAM_MEMBERS                        1                0.0\n",
       "\n",
       "[67 rows x 2 columns]"
      ]
     },
     "execution_count": 4,
     "metadata": {},
     "output_type": "execute_result"
    }
   ],
   "source": [
    "#Study of missing values.\n",
    "def missing_values_table(df):\n",
    "        # Total missing values\n",
    "        mis_val = df.isnull().sum()\n",
    "        \n",
    "        # Percentage of missing values\n",
    "        mis_val_percent = 100 * df.isnull().sum() / len(df)\n",
    "        \n",
    "        # Make a table with the results\n",
    "        mis_val_table = pd.concat([mis_val, mis_val_percent], axis=1)\n",
    "        \n",
    "        # Rename the columns\n",
    "        mis_val_table_ren_columns = mis_val_table.rename(\n",
    "        columns = {0 : 'Missing Values', 1 : '% of Total Values'})\n",
    "        \n",
    "        # Sort the table by percentage of missing descending\n",
    "        mis_val_table_ren_columns = mis_val_table_ren_columns[\n",
    "            mis_val_table_ren_columns.iloc[:,1] != 0].sort_values(\n",
    "        '% of Total Values', ascending=False).round(1)\n",
    "        \n",
    "        # Print some summary information\n",
    "        print (\"Your selected dataframe has \" + str(df.shape[1]) + \" columns.\\n\"      \n",
    "            \"There are \" + str(mis_val_table_ren_columns.shape[0]) +\n",
    "              \" columns that have missing values.\")\n",
    "        \n",
    "        # Return the dataframe with missing information\n",
    "        return mis_val_table_ren_columns\n",
    "\n",
    "missing_values_table(df)\n",
    "\n",
    "\n",
    "#Rendu compte de nombreuses données manquantes entrée 28 et 44."
   ]
  },
  {
   "cell_type": "code",
   "execution_count": 5,
   "metadata": {},
   "outputs": [
    {
     "name": "stdout",
     "output_type": "stream",
     "text": [
      "Each row has about 38 missing values.\n"
     ]
    }
   ],
   "source": [
    "#Average of missing values by row.\n",
    "def missing_values_by_row(df):\n",
    "    total = 0\n",
    "    count = 0\n",
    "    for index, row in df.iterrows():\n",
    "        for prop in row:\n",
    "            if not prop:\n",
    "                count += 1\n",
    "        total += 1\n",
    "        \n",
    "    print( \"Each row has about \" + str( round(count/total) ) + \" missing values.\" ) \n",
    "    \n",
    "missing_values_by_row(df)\n",
    "\n",
    "# => To much affected labels for deleting only columns."
   ]
  },
  {
   "cell_type": "code",
   "execution_count": 6,
   "metadata": {},
   "outputs": [
    {
     "name": "stdout",
     "output_type": "stream",
     "text": [
      "float64    65\n",
      "int64      41\n",
      "object     16\n",
      "dtype: int64\n"
     ]
    }
   ],
   "source": [
    "#Study of values type.\n",
    "print( df.dtypes.value_counts() )\n",
    "\n",
    "# => 16 labels has dtype object, it needs to be labeled. \n",
    "# Also missing values of those 16 columns has hard to transform to numerical values, using average."
   ]
  },
  {
   "cell_type": "code",
   "execution_count": 7,
   "metadata": {},
   "outputs": [
    {
     "name": "stdout",
     "output_type": "stream",
     "text": [
      "16 columns were label encoded.\n",
      "0 columns were removed.\n",
      "Your selected dataframe has 122 columns.\n",
      "There are 0 columns that have missing values.\n",
      "Empty DataFrame\n",
      "Columns: [Missing Values, % of Total Values]\n",
      "Index: []\n",
      "Datashape:  (92253, 122)\n",
      "float64    65\n",
      "int64      41\n",
      "int32      16\n",
      "dtype: int64\n"
     ]
    }
   ],
   "source": [
    "#Preprocessing for missing values and bad dtype.\n",
    "\n",
    "#df = df.dropna(axis=0)\n",
    "\n",
    "le = LabelEncoder()\n",
    "le_count = 0\n",
    "\n",
    "#Fill missing values.\n",
    "for idx in df.columns:\n",
    "    if df[idx].dtype == 'object':\n",
    "        #Fill object missing values can be done by replacing values by the most frequent one or create a new category.\n",
    "        #pprint ( df[idx].isna().sum() ) # 50% or more of missing data in those columns -> new categories\n",
    "        df[idx] = df[idx].fillna(value='New categorical label')\n",
    "    else:\n",
    "        #Fill numeric missing values can be done by replacing values by the mean or median value of the column.\n",
    "        df[idx] = df[idx].replace(np.NaN, df[idx].median())\n",
    "\n",
    "# Labeling\n",
    "for col in df:\n",
    "    if df[col].dtype == 'object':\n",
    "        # If 2 or fewer unique categories\n",
    "        if len(list(df[col].unique())) >= 1:\n",
    "            df[col] = le.fit_transform(df[col])\n",
    "            le_count += 1\n",
    "print('%d columns were label encoded.' % le_count)\n",
    "\n",
    "#Dropping useless columns.\n",
    "useless_cat = [ col for col in df if len(list(df[col].unique())) == 1 ]\n",
    "for cat in useless_cat:\n",
    "    df = df.drop(cat, axis=1)\n",
    "print('%d columns were removed.' % len(useless_cat))\n",
    "\n",
    "\n",
    "print( missing_values_table(df) )\n",
    "print('Datashape: ', df.shape)\n",
    "print( df.dtypes.value_counts() )\n",
    "\n"
   ]
  },
  {
   "cell_type": "code",
   "execution_count": 8,
   "metadata": {},
   "outputs": [
    {
     "name": "stdout",
     "output_type": "stream",
     "text": [
      "0    0.919049\n",
      "1    0.080951\n",
      "Name: TARGET, dtype: float64\n"
     ]
    },
    {
     "data": {
      "image/png": "[encoded data removed]",
      "text/plain": [
       "<Figure size 432x288 with 1 Axes>"
      ]
     },
     "metadata": {
      "needs_background": "light"
     },
     "output_type": "display_data"
    }
   ],
   "source": [
    "#Dispersion of y study.\n",
    "print( pd.value_counts(df['TARGET'], normalize=True) )\n",
    "\n",
    "df['TARGET'].astype(int).plot.hist();"
   ]
  },
  {
   "cell_type": "code",
   "execution_count": 9,
   "metadata": {},
   "outputs": [
    {
     "name": "stdout",
     "output_type": "stream",
     "text": [
      "Training data shape:  (169574, 122)\n"
     ]
    },
    {
     "data": {
      "image/png": "[encoded data removed]",
      "text/plain": [
       "<Figure size 432x288 with 1 Axes>"
      ]
     },
     "metadata": {
      "needs_background": "light"
     },
     "output_type": "display_data"
    }
   ],
   "source": [
    "#Oversampling (not undersampling) because we haven't many rows.\n",
    "# Separate majority and minority classes\n",
    "df_majority = df[df['TARGET']==0]\n",
    "df_minority = df[df['TARGET']==1]\n",
    "\n",
    "# Upsample minority class\n",
    "df_minority_upsampled = resample(df_minority, \n",
    "                                 replace=True,     # sample with replacement\n",
    "                                 n_samples=round(df.shape[0] * 0.919089),  # to match majority class\n",
    "                                 random_state=123) # reproducible results\n",
    "\n",
    "# Combine majority class with upsampled minority class\n",
    "dfUpsampled = pd.concat([df_majority, df_minority_upsampled])\n",
    " \n",
    "# Display new class counts\n",
    "dfUpsampled['TARGET'].value_counts()\n",
    "print('Training data shape: ', dfUpsampled.shape)\n",
    "\n",
    "dfUpsampled['TARGET'].astype(int).plot.hist();"
   ]
  },
  {
   "cell_type": "code",
   "execution_count": 12,
   "metadata": {},
   "outputs": [
    {
     "data": {
      "image/png": "[encoded data removed]",
      "text/plain": [
       "<Figure size 432x288 with 1 Axes>"
      ]
     },
     "metadata": {
      "needs_background": "light"
     },
     "output_type": "display_data"
    },
    {
     "data": {
      "image/png": "[encoded data removed]",
      "text/plain": [
       "<Figure size 432x288 with 1 Axes>"
      ]
     },
     "metadata": {
      "needs_background": "light"
     },
     "output_type": "display_data"
    }
   ],
   "source": [
    "#Knns preparation.\n",
    "\n",
    "#Oversampled knn.\n",
    "basic_up_X_train = dfUpsampled.drop('TARGET', 1)\n",
    "basic_up_y_train = dfUpsampled['TARGET']\n",
    "\n",
    "#Cross validation for oversampled.\n",
    "up_X_train, up_X_test, up_y_train, up_y_test = train_test_split(basic_up_X_train, basic_up_y_train, test_size=0.2, random_state=0)\n",
    "up_X_train_id = up_X_train['SK_ID_CURR']\n",
    "up_X_test_id = up_X_test['SK_ID_CURR']\n",
    "\n",
    "# Feature scaling for oversampled.\n",
    "sc = StandardScaler()\n",
    "up_X_train = pd.DataFrame(sc.fit_transform(up_X_train),columns = up_X_train.columns)\n",
    "up_X_test = pd.DataFrame(sc.fit_transform(up_X_test),columns = up_X_test.columns)\n",
    "\n",
    "\n",
    "#Normal knn.\n",
    "basic_X_train = df.drop('TARGET', 1)\n",
    "basic_y_train = df['TARGET']\n",
    "\n",
    "#Cross validation for oversampled.\n",
    "X_train, X_test, y_train, y_test = train_test_split(basic_X_train, basic_y_train, test_size=0.2, random_state=0)\n",
    "X_train_id = X_train['SK_ID_CURR']\n",
    "X_test_id = X_test['SK_ID_CURR']\n",
    "\n",
    "# Feature scaling for oversampled.\n",
    "sc = StandardScaler()\n",
    "X_train = pd.DataFrame(sc.fit_transform(X_train),columns = X_train.columns)\n",
    "X_test = pd.DataFrame(sc.fit_transform(X_test),columns = X_test.columns)\n",
    "\n",
    "#Find the best k for our models.\n",
    "\n",
    "oversampled_error_rate = []\n",
    "normal_error_rate = []\n",
    "\n",
    "for i in range(1,10):\n",
    "    \n",
    "    oversampled_knn = KNeighborsClassifier(n_neighbors=i)\n",
    "    oversampled_knn.fit(up_X_train, up_y_train)\n",
    "    pred_i = oversampled_knn.predict(up_X_test)\n",
    "    oversampled_error_rate.append(np.mean(pred_i != up_y_test))\n",
    "    \n",
    "    normal_knn = KNeighborsClassifier(n_neighbors=i)\n",
    "    normal_knn.fit(X_train, y_train)\n",
    "    pred_i2 = normal_knn.predict(X_test)\n",
    "    normal_error_rate.append(np.mean(pred_i2 != y_test))\n",
    "\n",
    "\n",
    "plt.plot(range(1,10),oversampled_error_rate,color='blue', linestyle='solid')\n",
    "plt.title('Oversampled : Error Rate vs. K Value')\n",
    "plt.xlabel('K')\n",
    "plt.ylabel('Error Rate')\n",
    "plt.show()\n",
    "\n",
    "plt.plot(range(1,10),normal_error_rate,color='yellow', linestyle='solid')\n",
    "plt.title('Normal : Error Rate vs. K Value')\n",
    "plt.xlabel('K')\n",
    "plt.ylabel('Error Rate')\n",
    "plt.show()"
   ]
  },
  {
   "cell_type": "code",
   "execution_count": 109,
   "metadata": {},
   "outputs": [
    {
     "name": "stdout",
     "output_type": "stream",
     "text": [
      "0.9576293675364883\n",
      "              precision    recall  f1-score   support\n",
      "\n",
      "           0       1.00      0.92      0.96     16808\n",
      "           1       0.92      1.00      0.96     17107\n",
      "\n",
      "    accuracy                           0.96     33915\n",
      "   macro avg       0.96      0.96      0.96     33915\n",
      "weighted avg       0.96      0.96      0.96     33915\n",
      "\n"
     ]
    },
    {
     "data": {
      "image/png": "[encoded data removed]",
      "text/plain": [
       "<Figure size 432x288 with 2 Axes>"
      ]
     },
     "metadata": {
      "needs_background": "light"
     },
     "output_type": "display_data"
    }
   ],
   "source": [
    "#Oversampled knn declaration -> with k = 2.\n",
    "oversampled_knn = KNeighborsClassifier(n_neighbors=2, n_jobs=-1)\n",
    "oversampled_knn.fit(up_X_train, up_y_train)\n",
    "\n",
    "\n",
    "#Prédiction.\n",
    "oversampled_pred = oversampled_knn.predict(up_X_test)\n",
    "oversampled_pred_proba = oversampled_knn.predict_proba(up_X_test)\n",
    "\n",
    "#Result.\n",
    "conf_mat = confusion_matrix(up_y_test, oversampled_pred)\n",
    "\n",
    "fig, ax = plot_confusion_matrix(conf_mat=conf_mat,\n",
    "                                colorbar=True,\n",
    "                                show_absolute=True,\n",
    "                                show_normed=True,\n",
    "                                class_names=[\"Pay\", \"Don't pay\"])\n",
    "\n",
    "print ( conf_mat.diagonal().sum()/conf_mat.sum() )\n",
    "\n",
    "print( classification_report(up_y_test, oversampled_pred))\n",
    "#The recall means \"how many of this class you find over the whole number of element of this class\".\n",
    "#The precision will be \"how many are correctly classified among that class\".\n",
    "#The f1-score is the harmonic mean between precision & recall.\n",
    "#The support is the number of occurence of the given class in your dataset.\n",
    "\n",
    "#print( accuracy_score(y_test, oversampled_pred) )"
   ]
  },
  {
   "cell_type": "code",
   "execution_count": 113,
   "metadata": {},
   "outputs": [
    {
     "name": "stdout",
     "output_type": "stream",
     "text": [
      "0        194194\n",
      "1        114516\n",
      "2        152689\n",
      "3        164011\n",
      "4        127325\n",
      "          ...  \n",
      "33910    197526\n",
      "33911    141231\n",
      "33912    134667\n",
      "33913    194504\n",
      "33914    137644\n",
      "Name: ID, Length: 33915, dtype: int64\n",
      "(33915, 4)\n"
     ]
    }
   ],
   "source": [
    "#Pickeling\n",
    "oversampled_pickeled_test = up_X_test[['SK_ID_CURR']].copy()\n",
    "oversampled_pickeled_test['ID'] = up_X_test_id.tolist()\n",
    "oversampled_pickeled_test['TARGET'] = oversampled_pred.tolist()\n",
    "oversampled_pickeled_test['PROBA'] = oversampled_pred_proba.tolist()\n",
    "\n",
    "print ( oversampled_pickeled_test['ID'] )\n",
    "print( oversampled_pickeled_test.shape )\n",
    "oversampled_pickeled_test.head()\n",
    "\n",
    "oversampled_pickeled_test.to_pickle('my_test.pickle')\n"
   ]
  },
  {
   "cell_type": "code",
   "execution_count": 112,
   "metadata": {},
   "outputs": [
    {
     "name": "stdout",
     "output_type": "stream",
     "text": [
      "0.9171860603761314\n",
      "              precision    recall  f1-score   support\n",
      "\n",
      "           0       0.92      1.00      0.96     16942\n",
      "           1       0.24      0.01      0.01      1509\n",
      "\n",
      "    accuracy                           0.92     18451\n",
      "   macro avg       0.58      0.50      0.48     18451\n",
      "weighted avg       0.86      0.92      0.88     18451\n",
      "\n"
     ]
    },
    {
     "data": {
      "image/png": "[encoded data removed]",
      "text/plain": [
       "<Figure size 432x288 with 2 Axes>"
      ]
     },
     "metadata": {
      "needs_background": "light"
     },
     "output_type": "display_data"
    }
   ],
   "source": [
    "#normal knn declaration -> with k = 6.\n",
    "normal_knn = KNeighborsClassifier(n_neighbors=6, n_jobs=-1)\n",
    "normal_knn.fit(X_train, y_train)\n",
    "\n",
    "#Prédiction.\n",
    "normal_pred = normal_knn.predict(X_test)\n",
    "\n",
    "#Result.\n",
    "conf_mat2 = confusion_matrix(y_test, normal_pred)\n",
    "\n",
    "fig, ax = plot_confusion_matrix(conf_mat=conf_mat2,\n",
    "                                colorbar=True,\n",
    "                                show_absolute=True,\n",
    "                                show_normed=True,\n",
    "                                class_names=[\"Pay\", \"Don't pay\"])\n",
    "\n",
    "print ( conf_mat2.diagonal().sum()/conf_mat2.sum() )\n",
    "\n",
    "print( classification_report(y_test, normal_pred, zero_division=1))\n",
    "\n",
    "#print( accuracy_score(y_test, normal_pred) )"
   ]
  },
  {
   "cell_type": "code",
   "execution_count": null,
   "metadata": {},
   "outputs": [],
   "source": []
  }
 ],
 "metadata": {
  "kernelspec": {
   "display_name": "Python 3",
   "language": "python",
   "name": "python3"
  },
  "language_info": {
   "codemirror_mode": {
    "name": "ipython",
    "version": 3
   },
   "file_extension": ".py",
   "mimetype": "text/x-python",
   "name": "python",
   "nbconvert_exporter": "python",
   "pygments_lexer": "ipython3",
   "version": "3.9.2"
  },
  "metadata": {
   "interpreter": {
    "hash": "ac848e2b15f423d6ecd27418803d4f95dff527fc2e63f7123c1e4eae8bf0e95a"
   }
  }
 },
 "nbformat": 4,
 "nbformat_minor": 2
}
